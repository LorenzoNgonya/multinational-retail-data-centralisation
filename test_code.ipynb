{
 "cells": [
  {
   "cell_type": "code",
   "execution_count": 33,
   "metadata": {},
   "outputs": [
    {
     "name": "stdout",
     "output_type": "stream",
     "text": [
      "     Unnamed: 0  index                                            address  \\\n",
      "0             0      0                                                NaN   \n",
      "1             1      1  Flat 72W\\nSally isle\\nEast Deantown\\nE7B 8EB, ...   \n",
      "2             2      2        Heckerstraße 4/5\\n50491 Säckingen, Landshut   \n",
      "3             3      3  5 Harrison tunnel\\nSouth Lydia\\nWC9 2BE, Westbury   \n",
      "4             4      4  Studio 6\\nStephen landing\\nSouth Simon\\nB77 2W...   \n",
      "..          ...    ...                                                ...   \n",
      "446          44    446    Täschestraße 25\\n39039 Nördlingen, Kirchlengern   \n",
      "447          44    447                                         K0ODETRLS3   \n",
      "448          44    448  Studio 8\\nMoss mall\\nWest Linda\\nM0E 6XR, High...   \n",
      "449          44    449               Baumplatz 6\\n80114 Kötzting, Bretten   \n",
      "450          45    450  Gotthilf-Rose-Straße 7/3\\n45457 Feuchtwangen, ...   \n",
      "\n",
      "      longitude         lat      locality    store_code staff_numbers  \\\n",
      "0           NaN         NaN           NaN  WEB-1388012W           325   \n",
      "1      51.62907        None  High Wycombe   HI-9B97EE4E            34   \n",
      "2      48.52961        None      Landshut   LA-0772C7B9            92   \n",
      "3         51.26        None      Westbury   WE-1DE82CEE            69   \n",
      "4       53.0233        None        Belper   BE-18074576            35   \n",
      "..          ...         ...           ...           ...           ...   \n",
      "446        52.2        None  Kirchlengern   KI-78096E8C            61   \n",
      "447  K8CXLZDP07  UXMWDMX1LC    3VHFDNP8ET    9D4LK7X4LZ    D23PCWSM6S   \n",
      "448    51.62907        None  High Wycombe   HI-EEA7AE62            33   \n",
      "449    49.03685        None       Bretten   BR-662EC74C            35   \n",
      "450    50.64336        None    Bad Honnef   BA-B4AED588            36   \n",
      "\n",
      "    opening_date   store_type    latitude country_code   continent  \n",
      "0     2010-06-12   Web Portal        None           GB      Europe  \n",
      "1     1996-10-25        Local    -0.74934           GB      Europe  \n",
      "2     2013-04-12  Super Store    12.16179           DE      Europe  \n",
      "3     2014-01-02  Super Store     -2.1875           GB      Europe  \n",
      "4     2019-09-09        Local    -1.48119           GB      Europe  \n",
      "..           ...          ...         ...          ...         ...  \n",
      "446   2005-05-12  Super Store     8.63333           DE      Europe  \n",
      "447   36IIMAQD58   NN04B3F6UQ  JZP8MIJTPZ   B3EH2ZGQAV  1WZB1TE1HL  \n",
      "448   1998-05-14        Local    -0.74934           GB      Europe  \n",
      "449   2020-10-17        Local     8.70745           DE      Europe  \n",
      "450   2001-05-12        Local      7.2278           DE    eeEurope  \n",
      "\n",
      "[451 rows x 13 columns]\n"
     ]
    }
   ],
   "source": [
    "\n",
    "import pandas as pd\n",
    "\n",
    "\n",
    "df = pd.read_fwf('clean_stores_data.txt')\n",
    "print(df)\n"
   ]
  },
  {
   "cell_type": "code",
   "execution_count": 46,
   "metadata": {},
   "outputs": [
    {
     "data": {
      "text/html": [
       "<div>\n",
       "<style scoped>\n",
       "    .dataframe tbody tr th:only-of-type {\n",
       "        vertical-align: middle;\n",
       "    }\n",
       "\n",
       "    .dataframe tbody tr th {\n",
       "        vertical-align: top;\n",
       "    }\n",
       "\n",
       "    .dataframe thead th {\n",
       "        text-align: right;\n",
       "    }\n",
       "</style>\n",
       "<table border=\"1\" class=\"dataframe\">\n",
       "  <thead>\n",
       "    <tr style=\"text-align: right;\">\n",
       "      <th></th>\n",
       "      <th>Unnamed: 0</th>\n",
       "      <th>index</th>\n",
       "      <th>address</th>\n",
       "      <th>longitude</th>\n",
       "      <th>lat</th>\n",
       "      <th>locality</th>\n",
       "      <th>store_code</th>\n",
       "      <th>staff_numbers</th>\n",
       "      <th>opening_date</th>\n",
       "      <th>store_type</th>\n",
       "      <th>latitude</th>\n",
       "      <th>country_code</th>\n",
       "      <th>continent</th>\n",
       "    </tr>\n",
       "  </thead>\n",
       "  <tbody>\n",
       "    <tr>\n",
       "      <th>179</th>\n",
       "      <td>17</td>\n",
       "      <td>179</td>\n",
       "      <td>Girschnerweg 163\\n93597 Angermünde, Dahlem</td>\n",
       "      <td>52.4581</td>\n",
       "      <td>None</td>\n",
       "      <td>Dahlem</td>\n",
       "      <td>DA-ACC520AE</td>\n",
       "      <td>30e</td>\n",
       "      <td>1994-03-07</td>\n",
       "      <td>Local</td>\n",
       "      <td>13.28702</td>\n",
       "      <td>DE</td>\n",
       "      <td>Europe</td>\n",
       "    </tr>\n",
       "  </tbody>\n",
       "</table>\n",
       "</div>"
      ],
      "text/plain": [
       "     Unnamed: 0  index                                     address longitude  \\\n",
       "179          17    179  Girschnerweg 163\\n93597 Angermünde, Dahlem   52.4581   \n",
       "\n",
       "      lat locality   store_code staff_numbers opening_date store_type  \\\n",
       "179  None   Dahlem  DA-ACC520AE           30e   1994-03-07      Local   \n",
       "\n",
       "     latitude country_code continent  \n",
       "179  13.28702           DE    Europe  "
      ]
     },
     "execution_count": 46,
     "metadata": {},
     "output_type": "execute_result"
    }
   ],
   "source": [
    "df.query(\"staff_numbers=='30e'\")"
   ]
  },
  {
   "cell_type": "code",
   "execution_count": 31,
   "metadata": {},
   "outputs": [
    {
     "data": {
      "text/plain": [
       "Empty DataFrame    object\n",
       "Unnamed: 1         object\n",
       "Unnamed: 2         object\n",
       "Unnamed: 3         object\n",
       "Unnamed: 4         object\n",
       "Unnamed: 5         object\n",
       "Unnamed: 6         object\n",
       "Unnamed: 7         object\n",
       "Unnamed: 8         object\n",
       "Unnamed: 9         object\n",
       "Unnamed: 10        object\n",
       "dtype: object"
      ]
     },
     "execution_count": 31,
     "metadata": {},
     "output_type": "execute_result"
    }
   ],
   "source": [
    "df.dtypes"
   ]
  },
  {
   "cell_type": "code",
   "execution_count": 45,
   "metadata": {},
   "outputs": [
    {
     "data": {
      "text/plain": [
       "array(['325', '34', '92', '69', '35', '36', '31', '20', '32', '25', '138',\n",
       "       '38', '39', '33', '109', '8', '119', '28', '29', '27', 'J78', '96',\n",
       "       '135', '30', '90', '120', '50', '75', '118', '37', '67', '26',\n",
       "       '40', '6', '22', '24', '83', '82', 'BIP8K8JJW2', '117', '7', '21',\n",
       "       '132', '131', '130', '70', '23', '51', '127', '4', '110', '5',\n",
       "       '81', '85', '41', '57', '102', '103', '68', '99', '66', '124',\n",
       "       '74', '87', '122', '112', '100', 'SKBXAXF5G5', '71', '30e', '128',\n",
       "       '76', '77', '137', '111', '58', nan, '56', '72', '2429OB3LMM',\n",
       "       '80', '101', '93', '73', '80R', '129', '60', '114', '52', '63',\n",
       "       '78', '113', '94', '134', '84', '59', '108', '74BY7HSB6P', 'A97',\n",
       "       '89', '53', '3n9', 'GT1FO6YGD4', '106', '48', 'FRTGHAA34B', '133',\n",
       "       '107', '62', '86', '139', '98', '61', 'D23PCWSM6S'], dtype=object)"
      ]
     },
     "execution_count": 45,
     "metadata": {},
     "output_type": "execute_result"
    }
   ],
   "source": [
    "df['staff_numbers'].unique()"
   ]
  },
  {
   "cell_type": "code",
   "execution_count": 40,
   "metadata": {},
   "outputs": [
    {
     "data": {
      "text/plain": [
       "0             325\n",
       "1              34\n",
       "2              92\n",
       "3              69\n",
       "4              35\n",
       "          ...    \n",
       "446            61\n",
       "447    D23PCWSM6S\n",
       "448            33\n",
       "449            35\n",
       "450            36\n",
       "Name: staff_numbers, Length: 451, dtype: object"
      ]
     },
     "execution_count": 40,
     "metadata": {},
     "output_type": "execute_result"
    }
   ],
   "source": [
    "df['staff_numbers'].replace('30e',30)"
   ]
  }
 ],
 "metadata": {
  "kernelspec": {
   "display_name": "Python 3.9.13",
   "language": "python",
   "name": "python3"
  },
  "language_info": {
   "codemirror_mode": {
    "name": "ipython",
    "version": 3
   },
   "file_extension": ".py",
   "mimetype": "text/x-python",
   "name": "python",
   "nbconvert_exporter": "python",
   "pygments_lexer": "ipython3",
   "version": "3.9.13"
  },
  "orig_nbformat": 4,
  "vscode": {
   "interpreter": {
    "hash": "3613191f729faf153093140a65d5ec2ecbf17877de0ef228dbdbe39f2a304b8f"
   }
  }
 },
 "nbformat": 4,
 "nbformat_minor": 2
}
