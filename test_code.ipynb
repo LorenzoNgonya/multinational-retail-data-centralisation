{
 "cells": [
  {
   "cell_type": "code",
   "execution_count": 58,
   "metadata": {},
   "outputs": [
    {
     "name": "stdout",
     "output_type": "stream",
     "text": [
      "     Unnamed: 0  index                                            address  \\\n",
      "0             0      0                                                NaN   \n",
      "1             1      1  Flat 72W\\nSally isle\\nEast Deantown\\nE7B 8EB, ...   \n",
      "2             2      2        Heckerstraße 4/5\\n50491 Säckingen, Landshut   \n",
      "3             3      3  5 Harrison tunnel\\nSouth Lydia\\nWC9 2BE, Westbury   \n",
      "4             4      4  Studio 6\\nStephen landing\\nSouth Simon\\nB77 2W...   \n",
      "..          ...    ...                                                ...   \n",
      "436          43    445  Flat 7\\nStephanie lake\\nMorrisside\\nHP8 8LH, C...   \n",
      "437          43    446    Täschestraße 25\\n39039 Nördlingen, Kirchlengern   \n",
      "438          43    448  Studio 8\\nMoss mall\\nWest Linda\\nM0E 6XR, High...   \n",
      "439          43    449               Baumplatz 6\\n80114 Kötzting, Bretten   \n",
      "440          44    450  Gotthilf-Rose-Straße 7/3\\n45457 Feuchtwangen, ...   \n",
      "\n",
      "     longitude      locality    store_code  staff_numbers opening_date  \\\n",
      "0          NaN           NaN  WEB-1388012W            325   2010-06-12   \n",
      "1         51.6  High Wycombe   HI-9B97EE4E             34   1996-10-25   \n",
      "2         48.5      Landshut   LA-0772C7B9             92   2013-04-12   \n",
      "3         51.3      Westbury   WE-1DE82CEE             69   2014-01-02   \n",
      "4         53.0        Belper   BE-18074576             35   2019-09-09   \n",
      "..         ...           ...           ...            ...          ...   \n",
      "436       50.8         Cowes   CO-473A9FBB             94   2008-06-08   \n",
      "437       52.2  Kirchlengern   KI-78096E8C             61   2005-05-12   \n",
      "438       51.6  High Wycombe   HI-EEA7AE62             33   1998-05-14   \n",
      "439       49.0       Bretten   BR-662EC74C             35   2020-10-17   \n",
      "440       50.6    Bad Honnef   BA-B4AED588             36   2001-05-12   \n",
      "\n",
      "      store_type  latitude country_code continent  \n",
      "0     Web Portal       NaN           GB    Europe  \n",
      "1          Local      -0.7           GB    Europe  \n",
      "2    Super Store      12.2           DE    Europe  \n",
      "3    Super Store      -2.2           GB    Europe  \n",
      "4          Local      -1.5           GB    Europe  \n",
      "..           ...       ...          ...       ...  \n",
      "436  Super Store      -1.3           GB    Europe  \n",
      "437  Super Store       8.6           DE    Europe  \n",
      "438        Local      -0.7           GB    Europe  \n",
      "439        Local       8.7           DE    Europe  \n",
      "440        Local       7.2           DE    Europe  \n",
      "\n",
      "[441 rows x 12 columns]\n"
     ]
    }
   ],
   "source": [
    "\n",
    "import pandas as pd\n",
    "\n",
    "\n",
    "df = pd.read_fwf('clean_stores_data.txt')\n",
    "print(df)\n"
   ]
  },
  {
   "cell_type": "code",
   "execution_count": 59,
   "metadata": {},
   "outputs": [
    {
     "data": {
      "text/html": [
       "<div>\n",
       "<style scoped>\n",
       "    .dataframe tbody tr th:only-of-type {\n",
       "        vertical-align: middle;\n",
       "    }\n",
       "\n",
       "    .dataframe tbody tr th {\n",
       "        vertical-align: top;\n",
       "    }\n",
       "\n",
       "    .dataframe thead th {\n",
       "        text-align: right;\n",
       "    }\n",
       "</style>\n",
       "<table border=\"1\" class=\"dataframe\">\n",
       "  <thead>\n",
       "    <tr style=\"text-align: right;\">\n",
       "      <th></th>\n",
       "      <th>Unnamed: 0</th>\n",
       "      <th>index</th>\n",
       "      <th>address</th>\n",
       "      <th>longitude</th>\n",
       "      <th>locality</th>\n",
       "      <th>store_code</th>\n",
       "      <th>staff_numbers</th>\n",
       "      <th>opening_date</th>\n",
       "      <th>store_type</th>\n",
       "      <th>latitude</th>\n",
       "      <th>country_code</th>\n",
       "      <th>continent</th>\n",
       "    </tr>\n",
       "  </thead>\n",
       "  <tbody>\n",
       "    <tr>\n",
       "      <th>336</th>\n",
       "      <td>33</td>\n",
       "      <td>341</td>\n",
       "      <td>Studio 8\\nLydia groves\\nNorth Hilarymouth\\nIV4...</td>\n",
       "      <td>50.8</td>\n",
       "      <td>Southsea</td>\n",
       "      <td>SO-B5B9CB3B</td>\n",
       "      <td>97</td>\n",
       "      <td>2018-05-08</td>\n",
       "      <td>Super Store</td>\n",
       "      <td>-1.1</td>\n",
       "      <td>GB</td>\n",
       "      <td>Europe</td>\n",
       "    </tr>\n",
       "  </tbody>\n",
       "</table>\n",
       "</div>"
      ],
      "text/plain": [
       "     Unnamed: 0  index                                            address  \\\n",
       "336          33    341  Studio 8\\nLydia groves\\nNorth Hilarymouth\\nIV4...   \n",
       "\n",
       "     longitude  locality   store_code  staff_numbers opening_date  \\\n",
       "336       50.8  Southsea  SO-B5B9CB3B             97   2018-05-08   \n",
       "\n",
       "      store_type  latitude country_code continent  \n",
       "336  Super Store      -1.1           GB    Europe  "
      ]
     },
     "execution_count": 59,
     "metadata": {},
     "output_type": "execute_result"
    }
   ],
   "source": [
    "df.query(\"store_code=='SO-B5B9CB3B'\")"
   ]
  },
  {
   "cell_type": "code",
   "execution_count": 60,
   "metadata": {},
   "outputs": [
    {
     "data": {
      "text/plain": [
       "Unnamed: 0         int64\n",
       "index              int64\n",
       "address           object\n",
       "longitude        float64\n",
       "locality          object\n",
       "store_code        object\n",
       "staff_numbers      int64\n",
       "opening_date      object\n",
       "store_type        object\n",
       "latitude         float64\n",
       "country_code      object\n",
       "continent         object\n",
       "dtype: object"
      ]
     },
     "execution_count": 60,
     "metadata": {},
     "output_type": "execute_result"
    }
   ],
   "source": [
    "df.dtypes"
   ]
  },
  {
   "cell_type": "code",
   "execution_count": 57,
   "metadata": {},
   "outputs": [
    {
     "data": {
      "text/plain": [
       "array(['WEB-1388012W', 'HI-9B97EE4E', 'LA-0772C7B9', 'WE-1DE82CEE',\n",
       "       'BE-18074576', 'GA-CAD01AC2', 'RU-C603E990', 'ST-229D997E',\n",
       "       'KA-FA7ED3B8', 'HA-974352FE', 'RU-9F1136B4', 'SI-ECD52CD9',\n",
       "       'DE-585399CF', 'CR-792AA8BB', 'HA-39A446E2', 'LA-9B0D9277',\n",
       "       'NE-1D8B1D0C', 'LY-4C3D5D6C', 'CH-6A561423', 'BA-898BDED3',\n",
       "       'EA-77ECA680', 'PO-38790FAE', 'BU-251A0E5A', 'EH-91356030',\n",
       "       'AB-917B715E', 'SU-0B4C9A5F', 'IN-157E1191', 'GA-DA8EEA4A',\n",
       "       'LA-2B59A825', 'WE-31C8B335', 'LA-F1042C48', 'EA-24B31935',\n",
       "       'EA-7965E06D', 'PE-040B15C3', 'EH-DB8676C1', 'AL-91D3A03C',\n",
       "       'HE-E39F4BC6', 'PO-47A01287', 'LA-D78C5F3F', 'ME-31958763',\n",
       "       'AR-5E72668B', 'CO-CB3D8C89', 'CL-5C7C3198', 'BO-17E7B6CE',\n",
       "       'CH-619E036C', 'BR-BC499EDD', 'NE-E50207AD', 'BE-8C0CF738',\n",
       "       'NE-374D3983', 'SU-95D20AE9', 'ME-FB62E459', 'KA-653E783F',\n",
       "       'MA-F0E23355', 'OS-70B2CD28', 'KI-A53AF10A', 'LE-63F3D33B',\n",
       "       'VE-93DA8430', 'HI-BAD4DD1C', 'RU-1994A94D', 'LE-84C48B9F',\n",
       "       'SC-4928418D', 'EP-105C3FB5', 'CH-7771B336', 'NRQKZWJ9OZ',\n",
       "       'LO-AB6B6DF8', 'BU-44F16401', 'RU-9DF20437', 'EH-DB65F258',\n",
       "       'SO-6D328417', 'PO-EB96293A', 'WA-34998EB8', 'EX-2C210EBF',\n",
       "       'CH-164A23FB', 'GA-BA05E5A8', 'CH-A44B48E6', 'TH-D62B06B7',\n",
       "       'LA-6AAC1779', 'MO-E8CFF8FE', 'LO-D54E72B5', 'EA-BE6D0CF8',\n",
       "       'BE-F4596696', 'WE-5B0343D9', 'SC-8724E112', 'SE-F428A035',\n",
       "       'SU-40E3321A', 'EX-9ED6711E', 'BU-550D8325', 'LA-9F489A77',\n",
       "       'RA-583F0CF9', 'NE-01250B4B', 'CH-7C155EA7', 'ST-4D2E1D55',\n",
       "       'AR-2D9D5CD3', 'MI-20EE1BFA', 'ST-119B11EA', 'BU-89E4DEC5',\n",
       "       'VE-B81F9500', 'WE-DC3933D4', 'CL-0FB1065C', 'PF-D90B564A',\n",
       "       'BE-028A2748', 'SO-6D546AD2', 'HI-BED70096', 'WA-FF3389AF',\n",
       "       'CH-7E92F288', 'FR-C04291C3', 'ST-B754F535', 'AR-E8FDEB2B',\n",
       "       'LY-FC3B1157', 'BE-09F94471', 'GA-400CC35C', 'WI-56B02C82',\n",
       "       'HI-F2784D72', 'ME-D9ECD7DF', 'LE-14B7245B', 'RU-AE12736B',\n",
       "       'LA-DE474D42', 'KA-9D87BC15', 'CH-DCCDE05E', 'CH-FBB32B94',\n",
       "       'ST-10F19C97', 'NE-C83B8B22', 'SE-8DF6557B', 'SU-346D5CF2',\n",
       "       'BU-784362E0', 'AR-0C5116E4', 'OB-7A4A9012', 'RA-2A22B217',\n",
       "       'WE-605028E4', 'PF-1D7B0646', 'LA-77BE2ADA', 'ZE-BBF02AEA',\n",
       "       'VI-BCBBC21A', 'WI-37616D0E', 'RH-F3E200B7', 'BU-19BB50F6',\n",
       "       'MA-316BDC6E', 'CL-C183BE4B', 'WA-F4396DF8', 'MA-0D207813',\n",
       "       'PO-99029708', 'GA-190B3F6D', 'BU-5B54171E', 'ME-9940FF73',\n",
       "       'CL-DA5365DF', 'SU-5F78B30A', 'LY-89B9F675', 'HE-2908B53E',\n",
       "       'AR-D3FDDD1D', 'SI-66F97423', 'PF-BADFAEDC', 'NE-EE2A190D',\n",
       "       'SE-596EAA50', 'RA-C25EE56A', 'EH-BB9AECF5', 'PF-F95902BC',\n",
       "       'CR-6B885B5E', 'HA-1BAE9B71', 'ME-B363FDAA', 'TR-4E1AF636',\n",
       "       'VI-43751A71', 'DA-D9DC550B', 'LA-347073D1', 'VI-9A93E3E2',\n",
       "       'CH-6D105C69', 'ST-06E21C4A', 'FR-0FA7D921', 'CL-361E75EC',\n",
       "       'WA-905645E6', 'LY-73842BE8', 'HA-B6953307', 'BE-F9462A80',\n",
       "       'QIUU9SVP51', 'ST-3C93FBF2', 'MA-20E6EB37', 'HI-F27C7A84',\n",
       "       'TH-D94B2E76', 'LO-3DD01CA8', 'BA-8BA66AA0', 'DA-ACC520AE',\n",
       "       'BA-3A37248A', 'IN-8A98027C', 'CH-42F9D8D8', 'AR-F938FB8E',\n",
       "       'ZE-EA9C82AA', 'EX-41AC3888', 'CH-E1344D81', 'GR-18E26E0C',\n",
       "       'VI-B13ACF87', 'EH-945D8F25', 'BU-3FC2A064', 'ME-C1AF27C3',\n",
       "       'PE-52B1E131', 'RU-BFF916C5', 'LA-BC0455E1', 'BE-9A378A7F',\n",
       "       'LA-C1E143DE', 'NI-D757F308', 'HA-859769AF', 'WA-0E6E657C',\n",
       "       'ST-1DAA85E6', 'WI-1BEEB9CA', 'HA-41E65DD9', 'JE-3AF1D134',\n",
       "       'KI-967D1E81', 'BA-B0933185', 'FA-6A7ABBAD', 'BU-3020DF6C',\n",
       "       'FR-91D11D69', 'ST-32641EC1', 'SC-ADA59883', 'GA-2252ED9A',\n",
       "       'WE-298C66F0', 'PO-3A1A12CD', 'CO-EAEDFFF3', 'GA-846D92B4',\n",
       "       'WE-54DE559C', nan, 'PE-60C328DB', 'BL-8387506C', 'OB-B57D2016',\n",
       "       'RE-4D07B5F2', 'HO-85D2BA5B', 'VE-EE7A1F48', 'RH-AB6C3782',\n",
       "       'AB-316DE4BA', 'LA-F0652295', 'EA-6B5D31D8', 'BE-2DE7E6FD',\n",
       "       'HO-978C59DC', 'KI-AF3A421C', 'Y8J0Z2W8O9', 'CH-C9AB9518',\n",
       "       'RU-514020AC', 'WI-5CDC1053', 'MI-D57825AA', 'WI-293A03C1',\n",
       "       'GR-84BD26D4', 'TH-B6A0AB51', 'SU-203C8474', 'EX-A3F2DB7C',\n",
       "       'AL-9E1A5529', 'CL-DA786EF6', 'AS-D26C759B', 'FA-0A1B14FB',\n",
       "       'HI-FD1137FA', 'CL-7BF16887', 'PE-360EA944', 'SI-C489938D',\n",
       "       'LA-7A9AA65C', 'AB-4ABD6D51', 'RA-5F41ED85', 'BE-7C142381',\n",
       "       'BR-FB62A5BA', 'OS-EE0CC48A', 'VI-682A89FF', 'GA-5957F561',\n",
       "       'PO-4AF8FC4D', 'SE-68A67454', 'RA-412FE889', 'KI-81D6FEBD',\n",
       "       'WE-41EFA2D6', 'LE-1438EF01', 'SI-3E5F4AD9', 'PF-F54C3265',\n",
       "       'PO-D4D326B4', 'SE-09EAF854', 'BE-DAD46DCD', 'BE-BC3E4F9A',\n",
       "       'WE-55D0E7FF', 'ST-8D1A43F1', 'VE-1050754E', 'CH-86DFF57D',\n",
       "       'GR-6D292223', 'HI-D59BBEEC', 'CH-8A74708A', 'GR-30543E4C',\n",
       "       'GR-664E0CB3', 'KA-249967D9', 'EX-B1AACC7D', 'BL-04FD6EF3',\n",
       "       'SU-B415327A', 'WA-0A35C594', 'DE-504A9BFE', 'AR-CB0D95D8',\n",
       "       'RE-FAF57EF7', 'AB-337AEBA7', 'PE-8BF5FE22', 'BU-0FB4CF87',\n",
       "       'ME-6529390A', 'NE-2B35DCBD', 'BU-90D457E0', 'LA-55069B69',\n",
       "       'CH-DEF208AA', 'BR-CACF7508', 'GR-911A7DFC', 'BL-9A86B74D',\n",
       "       'BA-99F54BD0', 'TR-658557DD', 'BL-D6CF153F', 'AR-2284FD32',\n",
       "       'GR-63F021A1', 'EA-EB4F2E1B', 'GI-718674C0', 'CH-7638016B',\n",
       "       'GA-D570038A', 'HO-16A376B0', 'AB-30E0C17F', 'NI-AB0FECD7',\n",
       "       'SE-C44E6951', 'CO-308FF73B', 'EX-B4EE25D8', 'SE-E21DDC72',\n",
       "       'TH-142AE777', 'CA-70469742', 'NE-6046DE65', 'LU-439557A9',\n",
       "       'SU-163D2755', 'VI-8EBC5471', 'BU-834779E4', 'ST-6590521C',\n",
       "       'HO-CE40B554', 'LO-8E1CA9E3', 'SU-ABF4F9A1', 'CO-9A576872',\n",
       "       'AL-EE8984F0', 'AL-FB5FAE9B', 'EA-EC2DAADE', 'ST-D14ED89D',\n",
       "       'LO-C4AB23C1', 'OB-4B85CD4E', 'BU-79F72A64', 'EP-E66BE479',\n",
       "       'ISEE8A57FE', 'WA-58021322', 'KO-7E39C57F', 'HI-AED3C6CD',\n",
       "       'AB-D665986A', 'BR-B7C294A7', 'LY-120579E6', 'GR-250FBD0C',\n",
       "       'SO-B5B9CB3B', 'LA-6D1FE061', 'BR-09D8DE69', 'WE-C5C34475',\n",
       "       'IN-827175EE', 'VE-38B76FFE', 'OS-4BF93680', 'WE-69BFEA46',\n",
       "       'HA-FC4E6AFF', 'EX-A01E0020', 'HU-57B095A2', 'CH-01DEFD68',\n",
       "       'RU-9D16C525', 'SC-FFDD5A57', 'KI-DD9663C2', 'EX-B3F5CFB1',\n",
       "       'IR-C8DAAB31', 'WE-A6C131B0', 'OB-FDC2CF69', 'BA-25629F8E',\n",
       "       'HI-7B43DCA9', 'HE-84E62AB9', 'RU-DA6DCDA7', 'IN-E47115F0',\n",
       "       'BA-91C512D2', 'JA-49A2D7F5', 'IN-C4060B7D', 'CH-6ADEBD99',\n",
       "       'BU-B5B6F452', 'SE-531CB6EE', 'SU-EFC31DF9', 'ST-76D54DCB',\n",
       "       'HE-A49D28DF', 'LA-0E85631B', 'CH-99475026', 'PF-4FB7B30C',\n",
       "       'AL-34ABF27F', 'LO-74DBE049', 'LO-EC0C9189', 'BE-C5C7E600',\n",
       "       'T0R2CQBDUS', 'PE-F9CF2B74', 'AS-373D10B2', 'RH-450F1A1B',\n",
       "       'GR-61A03D84', 'AB-D04AA29C', 'WE-0E145AF9', 'BR-0DCD7EE0',\n",
       "       'TH-B8F42840', 'GR-16C93F4D', 'BL-190ABD7D', 'RU-798BB83A',\n",
       "       'HA-10EEDC1D', 'AB-FCFAB1A9', 'HE-8818F573', 'IN-CC1993CF',\n",
       "       'LY-D37CAF45', 'RE-75445D60', 'CO-3971C69C', 'NE-D1A20330',\n",
       "       'LA-A12C3D8F', 'BA-C0C7FDBE', 'LO-F33AC948', 'PO-E636D18D',\n",
       "       'LE-1E8CCAFA', 'SC-4AE031F4', 'LO-ED733BA2', 'FR-A86E698A',\n",
       "       'KI-107167CD', 'BE-7D0EF647', 'PE-086FA5EE', 'PE-78E2B585',\n",
       "       'TUOKF5HAAQ', 'AR-EE57502B', 'EX-FA379F57', 'GR-9049A708',\n",
       "       'WA-ED4B495E', 'TR-8CD56339', 'CO-D819CC5E', 'EX-82831D93',\n",
       "       'WE-FF0F6BA4', 'EP-6E0918AF', 'WE-B278D336', 'BU-FB96B095',\n",
       "       'KO-975B107F', 'EX-2E8DF595', 'HA-CCBCBF87', 'AR-ADA61B10',\n",
       "       'RU-F0666E4B', 'WA-A34BF06C', 'KI-137ED849', 'BE-6F48991F',\n",
       "       'CH-C98AC168', 'DE-12392F66', 'BA-41B2EB4B', 'WI-1EA140B1',\n",
       "       'CH-01D85C8D', 'VI-68DB8362', 'RH-80D609C9', 'AB-D5ABF437',\n",
       "       'BE-B069E157', 'WA-A41DA979', 'CO-473A9FBB', 'KI-78096E8C',\n",
       "       '9D4LK7X4LZ', 'HI-EEA7AE62', 'BR-662EC74C', 'BA-B4AED588'],\n",
       "      dtype=object)"
      ]
     },
     "execution_count": 57,
     "metadata": {},
     "output_type": "execute_result"
    }
   ],
   "source": [
    "df['store_code'].unique()"
   ]
  },
  {
   "cell_type": "code",
   "execution_count": 48,
   "metadata": {},
   "outputs": [],
   "source": [
    "df['staff_numbers'].replace('30e',30, inplace=True)"
   ]
  }
 ],
 "metadata": {
  "kernelspec": {
   "display_name": "Python 3.9.13",
   "language": "python",
   "name": "python3"
  },
  "language_info": {
   "codemirror_mode": {
    "name": "ipython",
    "version": 3
   },
   "file_extension": ".py",
   "mimetype": "text/x-python",
   "name": "python",
   "nbconvert_exporter": "python",
   "pygments_lexer": "ipython3",
   "version": "3.9.13"
  },
  "orig_nbformat": 4,
  "vscode": {
   "interpreter": {
    "hash": "3613191f729faf153093140a65d5ec2ecbf17877de0ef228dbdbe39f2a304b8f"
   }
  }
 },
 "nbformat": 4,
 "nbformat_minor": 2
}
